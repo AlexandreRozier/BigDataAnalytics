{
 "cells": [
  {
   "cell_type": "code",
   "execution_count": 14,
   "metadata": {},
   "outputs": [
    {
     "ename": "KeyboardInterrupt",
     "evalue": "",
     "output_type": "error",
     "traceback": [
      "\u001b[0;31m----------------------------------------------------------------------\u001b[0m",
      "\u001b[0;31mKeyboardInterrupt\u001b[0m                    Traceback (most recent call last)",
      "\u001b[0;32m<ipython-input-14-f340f1e953a3>\u001b[0m in \u001b[0;36m<module>\u001b[0;34m\u001b[0m\n\u001b[1;32m     63\u001b[0m \u001b[0;32mwhile\u001b[0m \u001b[0;32mTrue\u001b[0m\u001b[0;34m:\u001b[0m\u001b[0;34m\u001b[0m\u001b[0;34m\u001b[0m\u001b[0m\n\u001b[1;32m     64\u001b[0m     \u001b[0mschedule\u001b[0m\u001b[0;34m.\u001b[0m\u001b[0mrun_pending\u001b[0m\u001b[0;34m(\u001b[0m\u001b[0;34m)\u001b[0m\u001b[0;34m\u001b[0m\u001b[0;34m\u001b[0m\u001b[0m\n\u001b[0;32m---> 65\u001b[0;31m     \u001b[0mtime\u001b[0m\u001b[0;34m.\u001b[0m\u001b[0msleep\u001b[0m\u001b[0;34m(\u001b[0m\u001b[0;36m30\u001b[0m\u001b[0;34m)\u001b[0m\u001b[0;34m\u001b[0m\u001b[0;34m\u001b[0m\u001b[0m\n\u001b[0m",
      "\u001b[0;31mKeyboardInterrupt\u001b[0m: "
     ]
    }
   ],
   "source": [
    "import boto3 \n",
    "import s3fs\n",
    "import pandas as pd\n",
    "import datetime\n",
    "from tzlocal import get_localzone as tzlocal\n",
    "from random import randint\n",
    "from  datetime import timedelta\n",
    "import schedule \n",
    "import time\n",
    "\n",
    "bucket_name = 'fog-datasets'\n",
    "s3_con = boto3.client('s3')\n",
    "\n",
    "file_name = 'streaming-data-mock.csv'\n",
    "data = []\n",
    "file_str = s3_con.get_object(Bucket=bucket_name, Key=file_name).get('Body').read().decode('utf-8')\n",
    "df = pd.read_csv('s3:{}/{}'.format(bucket_name,file_name),index_col=[0])\n",
    "df.index = pd.to_datetime(df.index)\n",
    "\n",
    "\n",
    "\n",
    "frequency_min = 15\n",
    "\n",
    "\n",
    "def job():\n",
    "    print(\"starting new job...\")\n",
    "    today = datetime.datetime.today()\n",
    "    end_time_relative = today.replace(year=2019, month=1, day = 7 + today.weekday() )\n",
    "    start_time_relative = end_time_relative - timedelta(minutes=frequency_min)\n",
    "    df_to_send = df[df.index < end_time_relative]\n",
    "    df_to_send = df_to_send[df_to_send.index > start_time_relative] \n",
    "    df_to_send.tail()\n",
    "\n",
    "    datapoints = []\n",
    "    for time, row in df_to_send.iterrows():\n",
    "        datapoints.append({'Timestamp':datetime.datetime(time.year,time.month,time.day, time.hour, time.minute, tzinfo=None), 'SampleCount': row.SampleCount, 'Unit': 'None'})\n",
    "\n",
    "    if(len(datapoints) ==0):\n",
    "        print(\"No datapoints! skipping upload...\")\n",
    "        return\n",
    "\n",
    "    # Upload preprocessed data for deep AR\n",
    "    data_bucket_name = 'fog-datasets'\n",
    "    directory = 'streaming-data-mock'\n",
    "    e_t = today - timedelta(minutes=frequency_min)\n",
    "    filename = \"{}-{}-{}-{}:{}:::{}-{}-{}-{}:{}.json\".format(e_t.year,e_t.month,e_t.day,e_t.hour,e_t.minute,today.year,today.month,today.day,today.hour,today.minute)\n",
    "\n",
    "    print (\"Appending {} datapoints to {}\".format(len(datapoints), filename))\n",
    "    s3_data_path = \"{}/{}/{}\".format(data_bucket_name, directory, filename)\n",
    "    s3filesystem = s3fs.S3FileSystem()\n",
    "\n",
    "    out = {\n",
    "        'response-code-200': {'Label': 'response-code-200', 'Datapoints':datapoints}\n",
    "    }\n",
    "    try:\n",
    "        with s3filesystem.open(s3_data_path, 'w') as fp:\n",
    "            fp.write(repr(out))\n",
    "    except:\n",
    "        print(\"Exception!\")\n",
    "        \n",
    "        \n",
    "schedule.every(frequency_min).minutes.do(job)\n",
    "while True:\n",
    "    schedule.run_pending()\n",
    "    time.sleep(30)\n"
   ]
  },
  {
   "cell_type": "code",
   "execution_count": 6,
   "metadata": {},
   "outputs": [],
   "source": [
    " file_str = s3_con.get_object(Bucket=\"fog-datasets\", Key=\"streaming-data-mock/2019-2-6-12:17:::2019-2-6-12:32.json\").get('Body').read().decode('utf-8')"
   ]
  },
  {
   "cell_type": "code",
   "execution_count": 9,
   "metadata": {},
   "outputs": [
    {
     "name": "stdout",
     "output_type": "stream",
     "text": [
      "{'response-code-200': {'Label': 'response-code-200', 'Datapoints': [{'Timestamp': datetime.datetime(2019, 1, 9, 12, 22, tzinfo=<UTC>), 'SampleCount': 141978.0, 'Unit': 'None'}, {'Timestamp': datetime.datetime(2019, 1, 9, 12, 27, tzinfo=<UTC>), 'SampleCount': 143389.0, 'Unit': 'None'}, {'Timestamp': datetime.datetime(2019, 1, 9, 12, 32, tzinfo=<UTC>), 'SampleCount': 142713.0, 'Unit': 'None'}]}}\n"
     ]
    }
   ],
   "source": [
    "print(file_str)"
   ]
  },
  {
   "cell_type": "code",
   "execution_count": null,
   "metadata": {},
   "outputs": [],
   "source": []
  }
 ],
 "metadata": {
  "kernelspec": {
   "display_name": "Python [conda env:fog]",
   "language": "python",
   "name": "conda-env-fog-py"
  },
  "language_info": {
   "codemirror_mode": {
    "name": "ipython",
    "version": 3
   },
   "file_extension": ".py",
   "mimetype": "text/x-python",
   "name": "python",
   "nbconvert_exporter": "python",
   "pygments_lexer": "ipython3",
   "version": "3.7.2"
  }
 },
 "nbformat": 4,
 "nbformat_minor": 2
}
